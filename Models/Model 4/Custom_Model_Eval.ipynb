{
 "cells": [
  {
   "cell_type": "code",
   "execution_count": 12,
   "metadata": {},
   "outputs": [],
   "source": [
    "import nibabel as nib\n",
    "import numpy as np\n",
    "import pandas as pd\n",
    "import os\n",
    "import torch\n",
    "import torch.nn as nn\n",
    "import torch.nn.functional as F\n",
    "from torch import optim\n",
    "import torchvision.transforms as transforms\n",
    "import time\n",
    "import pickle\n",
    "from torch.utils.data import Dataset, DataLoader\n",
    "import matplotlib.pyplot as plt\n",
    "import random"
   ]
  },
  {
   "cell_type": "code",
   "execution_count": 13,
   "metadata": {},
   "outputs": [],
   "source": [
    "device = torch.device('cpu')"
   ]
  },
  {
   "cell_type": "code",
   "execution_count": 14,
   "metadata": {},
   "outputs": [],
   "source": [
    "def Random3DCrop(images):\n",
    "    Crop1 = random.randrange(0,11)\n",
    "    Crop2 = random.randrange(0,12)\n",
    "    Crop3 = random.randrange(0,11)\n",
    "    images = images[Crop1:Crop1+250,Crop2:Crop2+300:,Crop3:Crop3+250]\n",
    "    return images\n",
    "    \n",
    "    \n",
    "class hcp_dataset(Dataset):\n",
    "    def __init__(self, df_path, train = False):\n",
    "        self.df = pd.read_csv(df_path)\n",
    "        self.train = train\n",
    "        \n",
    "    def __len__(self):\n",
    "        return len(self.df)\n",
    "    \n",
    "    def __getitem__(self,idx):\n",
    "        subject_name = self.df.iloc[idx]['Subject']\n",
    "        image_path ='/scratch/cz2064/myjupyter/DeepLearning/Final_Project/data/hcp2/'+str(subject_name)+'/T1w/T1w_acpc_dc_restore_brain.nii.gz'\n",
    "        image = nib.load(image_path)\n",
    "        image_array = image.get_fdata()\n",
    "        \n",
    "        #Preprocess\n",
    "        image_array = Random3DCrop(image_array)\n",
    "        image_array = (image_array - image_array.mean()) / image_array.std()\n",
    "        \n",
    "        #label = self.df.loc[idx][['N','E','O','A','C']].values.astype(int)\n",
    "        label = self.df.loc[idx][['C']].values[0].astype(int) # predict C\n",
    "        \n",
    "        \n",
    "        sample = {'x': image_array[None,:], 'y': label}\n",
    "        \n",
    "        return sample"
   ]
  },
  {
   "cell_type": "code",
   "execution_count": 15,
   "metadata": {},
   "outputs": [],
   "source": [
    "train_df_path = '/scratch/cz2064/myjupyter/DeepLearning/Final_Project/train.csv'\n",
    "val_df_path = '/scratch/cz2064/myjupyter/DeepLearning/Final_Project/val.csv'\n",
    "test_df_path = '/scratch/cz2064/myjupyter/DeepLearning/Final_Project/test.csv'\n",
    "transformed_dataset = {'train': hcp_dataset(train_df_path, train = True),\n",
    "                       'validate':hcp_dataset(val_df_path),\n",
    "                       'test':hcp_dataset(test_df_path),}\n",
    "bs = 1\n",
    "dataloader = {x: DataLoader(transformed_dataset[x], batch_size=bs,\n",
    "                        shuffle=True, num_workers=0) for x in ['train', 'validate','test']}\n",
    "data_sizes ={x: len(transformed_dataset[x]) for x in ['train', 'validate','test']}"
   ]
  },
  {
   "cell_type": "code",
   "execution_count": 16,
   "metadata": {},
   "outputs": [],
   "source": [
    "sample = next(iter(dataloader['train']))['x']\n",
    "sample = sample.to(device,dtype=torch.float)"
   ]
  },
  {
   "cell_type": "code",
   "execution_count": 17,
   "metadata": {},
   "outputs": [
    {
     "data": {
      "text/plain": [
       "torch.Size([1, 1, 250, 300, 250])"
      ]
     },
     "execution_count": 17,
     "metadata": {},
     "output_type": "execute_result"
    }
   ],
   "source": [
    "sample.size()"
   ]
  },
  {
   "cell_type": "code",
   "execution_count": null,
   "metadata": {},
   "outputs": [],
   "source": []
  },
  {
   "cell_type": "code",
   "execution_count": 18,
   "metadata": {},
   "outputs": [],
   "source": [
    "class CNN_3D(nn.Module):\n",
    "    def __init__(self):\n",
    "        super(CNN_3D, self).__init__()\n",
    "        self.conv1 = nn.Conv3d(1, 16, 3, stride=1, padding=1)\n",
    "        self.bn1 = nn.BatchNorm3d(16)\n",
    "        self.activation1 = nn.ReLU()\n",
    "        self.maxpool1 = nn.MaxPool3d(kernel_size=(3,3,3), stride=(3,3,3))\n",
    "        \n",
    "        self.conv2_1_1 = nn.Conv3d(16,16, kernel_size=(3,3,3), stride=(1,1,1), padding=(1,1,1))\n",
    "        self.conv2_2_1 = nn.Conv3d(16,16, kernel_size=(1,1,7), stride=(1,1,1), padding=(0,0,3))\n",
    "        self.conv2_2_2 = nn.Conv3d(16,16, kernel_size=(1,7,1), stride=(1,1,1), padding=(0,3,0))\n",
    "        self.conv2_2_3 = nn.Conv3d(16,16, kernel_size=(7,1,1), stride=(1,1,1), padding=(3,0,0))\n",
    "        self.bn2 = nn.BatchNorm3d(32)\n",
    "        self.activation2 = nn.ReLU()\n",
    "        self.maxpool2 = nn.MaxPool3d(kernel_size=(3,3,3), stride=(3,3,3))\n",
    "        self.res1_avgpool = nn.AvgPool3d(3, stride=3)\n",
    "        self.res1_conv2 = nn.Conv3d(16,32,1,1)\n",
    "        \n",
    "        self.conv3_1_1 = nn.Conv3d(32,32, kernel_size=(3,3,3), stride=(1,1,1), padding=(1,1,1))\n",
    "        self.conv3_2_1 = nn.Conv3d(32,32, kernel_size=(1,1,7), stride=(1,1,1), padding=(0,0,3))\n",
    "        self.conv3_2_2 = nn.Conv3d(32,32, kernel_size=(1,7,1), stride=(1,1,1), padding=(0,3,0))\n",
    "        self.conv3_2_3 = nn.Conv3d(32,32, kernel_size=(7,1,1), stride=(1,1,1), padding=(3,0,0))\n",
    "        self.bn3 = nn.BatchNorm3d(64)\n",
    "        self.activation3 = nn.ReLU()\n",
    "        self.maxpool3 = nn.MaxPool3d(kernel_size=(3,3,3), stride=(3,3,3))\n",
    "        self.res2_avgpool = nn.AvgPool3d(3, stride=3)\n",
    "        self.res2_conv3 = nn.Conv3d(32,64,1,1)\n",
    "\n",
    "        self.conv4_1_1 = nn.Conv3d(64,64, kernel_size=(3,3,3), stride=(1,1,1), padding=(1,1,1))\n",
    "        self.conv4_2_1 = nn.Conv3d(64,64, kernel_size=(1,1,7), stride=(1,1,1), padding=(0,0,3))\n",
    "        self.conv4_2_2 = nn.Conv3d(64,64, kernel_size=(1,7,1), stride=(1,1,1), padding=(0,3,0))\n",
    "        self.conv4_2_3 = nn.Conv3d(64,64, kernel_size=(7,1,1), stride=(1,1,1), padding=(3,0,0))\n",
    "        self.bn4 = nn.BatchNorm3d(128)\n",
    "        self.activation4 = nn.ReLU()\n",
    "        self.res3_avgpool = nn.AvgPool3d(3, stride=3)\n",
    "        self.res3_conv4 = nn.Conv3d(64,128,1,1)\n",
    "        \n",
    "        self.GobalAveragePooling = nn.AdaptiveMaxPool3d((1,1,1))\n",
    "        self.fc = nn.Linear(128,3)\n",
    "\n",
    "    def forward(self, x):\n",
    "        x = self.conv1(x)\n",
    "        x = self.bn1(x)\n",
    "        x = self.activation1(x)\n",
    "        residual1 = x\n",
    "        x = self.maxpool1(x)\n",
    "        \n",
    "        \n",
    "        x1 = self.conv2_1_1(x)\n",
    "        x2 = self.conv2_1_1(x)\n",
    "        x2 = self.conv2_2_2(x2)\n",
    "        x2 = self.conv2_2_3(x2)\n",
    "        x = torch.cat((x1, x2), 1)\n",
    "        residual1 = self.res1_avgpool(residual1)\n",
    "        residual1 = self.res1_conv2(residual1)\n",
    "        x = x + residual1\n",
    "        x = self.bn2(x)\n",
    "        x = self.activation2(x)\n",
    "        residual2 = x\n",
    "        x = self.maxpool2(x)\n",
    "        \n",
    "        \n",
    "        x1 = self.conv3_1_1(x)\n",
    "        x2 = self.conv3_1_1(x)\n",
    "        x2 = self.conv3_2_2(x2)\n",
    "        x2 = self.conv3_2_3(x2)\n",
    "        x = torch.cat((x1, x2), 1)\n",
    "        residual2 = self.res2_avgpool(residual2)\n",
    "        residual2 = self.res2_conv3(residual2)\n",
    "        x = x + residual2\n",
    "        x = self.bn3(x)\n",
    "        x = self.activation3(x)\n",
    "        residual3 = x\n",
    "        x = self.maxpool3(x)\n",
    "        \n",
    "        \n",
    "        x1 = self.conv4_1_1(x)\n",
    "        x2 = self.conv4_1_1(x)\n",
    "        x2 = self.conv4_2_2(x2)\n",
    "        x2 = self.conv4_2_3(x2)\n",
    "        x = torch.cat((x1, x2), 1)\n",
    "        residual3 = self.res3_avgpool(residual3)\n",
    "        residual3 = self.res3_conv4(residual3)\n",
    "        x = x + residual3\n",
    "        x = self.bn4(x)\n",
    "        x = self.activation4(x)\n",
    "        \n",
    "        self.featuremap1 = x.detach()\n",
    "        x = self.GobalAveragePooling(x)\n",
    "        x = torch.flatten(x, 1)\n",
    "        x = self.fc(x)\n",
    "        return x\n",
    "    \n",
    "model = CNN_3D()\n",
    "model = model.to(device)\n",
    "for m in model.modules():\n",
    "    if isinstance(m, (nn.Conv2d, nn.Linear)):\n",
    "        torch.nn.init.xavier_uniform_(m.weight,gain=1.0)"
   ]
  },
  {
   "cell_type": "code",
   "execution_count": 19,
   "metadata": {},
   "outputs": [
    {
     "data": {
      "text/plain": [
       "tensor([[-4.3608,  4.2085,  0.2704]], grad_fn=<AddmmBackward>)"
      ]
     },
     "execution_count": 19,
     "metadata": {},
     "output_type": "execute_result"
    }
   ],
   "source": [
    "model(sample)"
   ]
  },
  {
   "cell_type": "code",
   "execution_count": null,
   "metadata": {},
   "outputs": [],
   "source": []
  },
  {
   "cell_type": "code",
   "execution_count": 20,
   "metadata": {},
   "outputs": [
    {
     "data": {
      "text/plain": [
       "<All keys matched successfully>"
      ]
     },
     "execution_count": 20,
     "metadata": {},
     "output_type": "execute_result"
    }
   ],
   "source": [
    "model_save_path = './Python_Test/checkpoint_Custom_Model_test5.pt'\n",
    "model_save = torch.load(model_save_path,map_location=device)\n",
    "best_model_wts = model_save['best_model_wts']\n",
    "model.load_state_dict(best_model_wts)"
   ]
  },
  {
   "cell_type": "code",
   "execution_count": null,
   "metadata": {},
   "outputs": [],
   "source": []
  },
  {
   "cell_type": "code",
   "execution_count": 21,
   "metadata": {},
   "outputs": [],
   "source": [
    "from sklearn.preprocessing import label_binarize\n",
    "from sklearn.utils.multiclass import unique_labels\n",
    "from sklearn.metrics import confusion_matrix\n",
    "from sklearn.metrics import roc_curve, auc\n",
    "from itertools import cycle\n",
    "import warnings\n",
    "warnings.filterwarnings('ignore')\n",
    "\n",
    "def evaluate_model(model, dataloader, phase = 'test'):   \n",
    "    model.eval()\n",
    "    y_test_label = []\n",
    "    y_test = []\n",
    "    y_score = []\n",
    "    pre = []\n",
    "    for data in dataloader[phase]:\n",
    "        image = data['x'].to(device,dtype=torch.float)\n",
    "        label = data['y'].to('cpu',dtype=torch.long)\n",
    "        y_test_label = y_test_label+label.tolist()\n",
    "        label = label_binarize(label, classes=[0, 1, 2])\n",
    "        if y_test == []:\n",
    "            y_test=label\n",
    "        else:\n",
    "            y_test = np.concatenate((y_test,label),axis = 0)\n",
    "        output = model(image)\n",
    "        #output = F.softmax(output,dim=1)\n",
    "        output = output.to('cpu')\n",
    "        if y_score == []:\n",
    "            y_score=np.array(output.detach().numpy())\n",
    "        else:\n",
    "            y_score = np.concatenate((y_score,output.detach().numpy()),axis = 0)\n",
    "    for i in y_score:\n",
    "        pre.append(list(i).index(max(i)))\n",
    "    return y_test_label,y_test,pre,y_score\n",
    "\n",
    "# https://scikit-learn.org/stable/auto_examples/model_selection/plot_roc.html\n",
    "def ROC_curve(y_test,y_score):\n",
    "    fpr = dict()\n",
    "    tpr = dict()\n",
    "    roc_auc = dict()\n",
    "    n_classes = y_test.shape[1]\n",
    "    for i in range(n_classes):\n",
    "        fpr[i], tpr[i], _ = roc_curve(y_test[:, i], y_score[:, i])\n",
    "        roc_auc[i] = auc(fpr[i], tpr[i])\n",
    "\n",
    "    colors = cycle(['aqua', 'darkorange', 'cornflowerblue'])\n",
    "    lw = 2\n",
    "    for i, color in zip(range(n_classes), colors):\n",
    "        plt.plot(fpr[i], tpr[i], color=color, lw=lw,\n",
    "                 label='ROC curve of class {0} (area = {1:0.2f})'\n",
    "                 ''.format(i, roc_auc[i]))\n",
    "    plt.plot([0, 1], [0, 1], 'k--', lw=lw)\n",
    "    plt.xlim([0.0, 1.0])\n",
    "    plt.ylim([0.0, 1.05])\n",
    "    plt.xlabel('False Positive Rate')\n",
    "    plt.ylabel('True Positive Rate')\n",
    "    plt.title('Some extension of Receiver operating characteristic to multi-class')\n",
    "    plt.legend(loc=\"lower right\")\n",
    "    plt.show()\n",
    "    return None\n",
    "\n",
    "# https://scikit-learn.org/stable/auto_examples/model_selection/plot_confusion_matrix.html\n",
    "def plot_confusion_matrix(y_true, y_pred, classes,\n",
    "                          normalize=False,\n",
    "                          title=None,\n",
    "                          cmap=plt.cm.Blues):\n",
    "    \"\"\"\n",
    "    This function prints and plots the confusion matrix.\n",
    "    Normalization can be applied by setting `normalize=True`.\n",
    "    \"\"\"\n",
    "    if not title:\n",
    "        if normalize:\n",
    "            title = 'Normalized confusion matrix'\n",
    "        else:\n",
    "            title = 'Confusion matrix, without normalization'\n",
    "\n",
    "    # Compute confusion matrix\n",
    "    cm = confusion_matrix(y_true, y_pred)\n",
    "    # Only use the labels that appear in the data\n",
    "    #classes = classes[unique_labels(y_true, y_pred)]\n",
    "    if normalize:\n",
    "        cm = cm.astype('float') / cm.sum(axis=1)[:, np.newaxis]\n",
    "        #print(\"Normalized confusion matrix\")\n",
    "    else:\n",
    "        pass\n",
    "        #print('Confusion matrix, without normalization')\n",
    "\n",
    "    #print(cm)\n",
    "    #print(cm.shape)\n",
    "\n",
    "    fig, ax = plt.subplots()\n",
    "    im = ax.imshow(cm, interpolation='nearest', cmap=cmap)\n",
    "    ax.figure.colorbar(im, ax=ax)\n",
    "    # We want to show all ticks...\n",
    "    ax.set(xticks=np.arange(cm.shape[1]),\n",
    "           yticks=np.arange(-0.5, cm.shape[0]),\n",
    "           # ... and label them with the respective list entries\n",
    "           xticklabels=classes, yticklabels=classes,\n",
    "           title=title,\n",
    "           ylabel='True label',\n",
    "           xlabel='Predicted label')\n",
    "\n",
    "    # Rotate the tick labels and set their alignment.\n",
    "    plt.setp(ax.get_xticklabels(), rotation=45, ha=\"right\",\n",
    "             rotation_mode=\"anchor\")\n",
    "\n",
    "    # Loop over data dimensions and create text annotations.\n",
    "    fmt = '.2f' if normalize else 'd'\n",
    "    thresh = cm.max() / 2.\n",
    "    for i in range(cm.shape[0]):\n",
    "        for j in range(cm.shape[1]):\n",
    "            ax.text(j, i, format(cm[i, j], fmt),\n",
    "                    ha=\"center\", va=\"center\",\n",
    "                    color=\"white\" if cm[i, j] > thresh else \"black\")\n",
    "    fig.tight_layout()\n",
    "    return None"
   ]
  },
  {
   "cell_type": "code",
   "execution_count": 22,
   "metadata": {},
   "outputs": [
    {
     "data": {
      "image/png": "[encoded data removed]",
      "text/plain": [
       "<Figure size 432x288 with 1 Axes>"
      ]
     },
     "metadata": {
      "needs_background": "light"
     },
     "output_type": "display_data"
    },
    {
     "data": {
      "image/png": "[encoded data removed]",
      "text/plain": [
       "<Figure size 432x288 with 2 Axes>"
      ]
     },
     "metadata": {
      "needs_background": "light"
     },
     "output_type": "display_data"
    }
   ],
   "source": [
    "y_test_label,y_test,pre,y_score = evaluate_model(model, dataloader, phase = 'test')\n",
    "ROC_curve(y_test,y_score)\n",
    "classes = ['0','1','2']\n",
    "plot_confusion_matrix(y_test_label, pre, classes)"
   ]
  },
  {
   "cell_type": "code",
   "execution_count": null,
   "metadata": {},
   "outputs": [],
   "source": []
  },
  {
   "cell_type": "code",
   "execution_count": null,
   "metadata": {},
   "outputs": [],
   "source": []
  },
  {
   "cell_type": "code",
   "execution_count": null,
   "metadata": {},
   "outputs": [],
   "source": []
  },
  {
   "cell_type": "code",
   "execution_count": null,
   "metadata": {},
   "outputs": [],
   "source": []
  },
  {
   "cell_type": "code",
   "execution_count": null,
   "metadata": {},
   "outputs": [],
   "source": []
  },
  {
   "cell_type": "code",
   "execution_count": null,
   "metadata": {},
   "outputs": [],
   "source": []
  },
  {
   "cell_type": "code",
   "execution_count": null,
   "metadata": {},
   "outputs": [],
   "source": []
  },
  {
   "cell_type": "code",
   "execution_count": null,
   "metadata": {},
   "outputs": [],
   "source": []
  },
  {
   "cell_type": "code",
   "execution_count": null,
   "metadata": {},
   "outputs": [],
   "source": []
  },
  {
   "cell_type": "code",
   "execution_count": null,
   "metadata": {},
   "outputs": [],
   "source": []
  }
 ],
 "metadata": {
  "kernelspec": {
   "display_name": "Python 3",
   "language": "python",
   "name": "python3"
  },
  "language_info": {
   "codemirror_mode": {
    "name": "ipython",
    "version": 3
   },
   "file_extension": ".py",
   "mimetype": "text/x-python",
   "name": "python",
   "nbconvert_exporter": "python",
   "pygments_lexer": "ipython3",
   "version": "3.6.10"
  }
 },
 "nbformat": 4,
 "nbformat_minor": 4
}
